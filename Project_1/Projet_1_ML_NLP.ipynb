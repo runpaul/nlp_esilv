{
  "nbformat": 4,
  "nbformat_minor": 0,
  "metadata": {
    "colab": {
      "provenance": []
    },
    "kernelspec": {
      "name": "python3",
      "display_name": "Python 3"
    },
    "language_info": {
      "name": "python"
    }
  },
  "cells": [
    {
      "cell_type": "code",
      "execution_count": null,
      "metadata": {
        "colab": {
          "base_uri": "https://localhost:8080/"
        },
        "id": "q2pAN7chGHw_",
        "outputId": "1a98238b-357b-41b9-9f61-685dbf705946"
      },
      "outputs": [
        {
          "output_type": "stream",
          "name": "stdout",
          "text": [
            "Collecting rank_bm25\n",
            "  Downloading rank_bm25-0.2.2-py3-none-any.whl (8.6 kB)\n",
            "Requirement already satisfied: numpy in /usr/local/lib/python3.10/dist-packages (from rank_bm25) (1.23.5)\n",
            "Installing collected packages: rank_bm25\n",
            "Successfully installed rank_bm25-0.2.2\n",
            "Cloning into 'project1-2023'...\n",
            "remote: Enumerating objects: 8, done.\u001b[K\n",
            "remote: Counting objects: 100% (8/8), done.\u001b[K\n",
            "remote: Compressing objects: 100% (6/6), done.\u001b[K\n",
            "remote: Total 8 (delta 0), reused 0 (delta 0), pack-reused 0\u001b[K\n",
            "Receiving objects: 100% (8/8), 2.30 MiB | 4.86 MiB/s, done.\n"
          ]
        },
        {
          "output_type": "stream",
          "name": "stderr",
          "text": [
            "[nltk_data] Downloading package stopwords to /root/nltk_data...\n",
            "[nltk_data]   Unzipping corpora/stopwords.zip.\n",
            "[nltk_data] Downloading package punkt to /root/nltk_data...\n",
            "[nltk_data]   Unzipping tokenizers/punkt.zip.\n"
          ]
        }
      ],
      "source": [
        "!pip install rank_bm25\n",
        "!pip install sentence_transformers\n",
        "!git clone https://github.com/cr-nlp/project1-2023.git\n",
        "\n",
        "import urllib.request as re\n",
        "from nltk.tokenize import word_tokenize\n",
        "from nltk.corpus import stopwords\n",
        "import numpy as np\n",
        "from collections import defaultdict\n",
        "import nltk\n",
        "import math\n",
        "nltk.download('stopwords')\n",
        "nltk.download('punkt')\n",
        "\n",
        "\n",
        "def loadNFCorpus():\n",
        "\tdir = \"./project1-2023/\"\n",
        "\tfilename = dir +\"dev.docs\"\n",
        "\n",
        "\tdicDoc={}\n",
        "\twith open(filename) as file:\n",
        "\t\tlines = file.readlines()\n",
        "\tfor line in lines:\n",
        "\t\ttabLine = line.split('\\t')\n",
        "\t\t#print(tabLine)\n",
        "\t\tkey = tabLine[0]\n",
        "\t\tvalue = tabLine[1]\n",
        "\t\t#print(value)\n",
        "\t\tdicDoc[key] = value\n",
        "\tfilename = dir + \"dev.all.queries\"\n",
        "\tdicReq={}\n",
        "\twith open(filename) as file:\n",
        "\t\tlines = file.readlines()\n",
        "\n",
        "\tfor line in lines:\n",
        "\t\ttabLine = line.split('\\t')\n",
        "\t\tkey = tabLine[0]\n",
        "\t\tvalue = tabLine[1]\n",
        "\t\tdicReq[key] = value\n",
        "\n",
        "\tfilename = dir + \"dev.2-1-0.qrel\"\n",
        "\tdicReqDoc=defaultdict(dict)\n",
        "\twith open(filename) as file:\n",
        "\t\tlines = file.readlines()\n",
        "\tfor line in lines:\n",
        "\t\ttabLine = line.strip().split('\\t')\n",
        "\t\treq = tabLine[0]\n",
        "\t\tdoc = tabLine[2]\n",
        "\t\tscore = int(tabLine[3])\n",
        "\t\tdicReqDoc[req][doc]=score\n",
        "\treturn dicDoc, dicReq, dicReqDoc\n"
      ]
    },
    {
      "cell_type": "code",
      "source": [
        "def text2TokenList(text):\n",
        "\tstopword = stopwords.words('english')\n",
        "\t#print(\"LEN DE STOPWORD=\",len(stopword))\n",
        "\tword_tokens = word_tokenize(text.lower())\n",
        "\tword_tokens_without_stops = [word for word in word_tokens if word not in stopword and len(word)>2]\n",
        "\treturn word_tokens_without_stops\n"
      ],
      "metadata": {
        "id": "ED2fooPbMxpX"
      },
      "execution_count": null,
      "outputs": []
    },
    {
      "cell_type": "code",
      "source": [
        "def docsandreqsToKeep(startDoc, endDoc):\n",
        "\n",
        "    dicDoc, dicReq, dicReqDoc = loadNFCorpus()\n",
        "\n",
        "    docsToKeep = []\n",
        "    reqsToKeep = []\n",
        "    dicReqDocToKeep = defaultdict(dict)\n",
        "\n",
        "    i = startDoc\n",
        "    for reqId in dicReqDoc:\n",
        "        if i > (endDoc - startDoc):  # nbDocsToKeep:\n",
        "            break\n",
        "        for docId in dicReqDoc[reqId]:\n",
        "            dicReqDocToKeep[reqId][docId] = dicReqDoc[reqId][docId]\n",
        "            docsToKeep.append(docId)\n",
        "            i = i + 1\n",
        "        reqsToKeep.append(reqId)\n",
        "    docsToKeep = list(set(docsToKeep))\n",
        "\n",
        "    return docsToKeep, reqsToKeep, dicReqDocToKeep"
      ],
      "metadata": {
        "id": "EUvkWT5SUWnf"
      },
      "execution_count": null,
      "outputs": []
    },
    {
      "cell_type": "code",
      "source": [
        "from rank_bm25 import BM25Okapi\n",
        "def Tokenize_Embedding(docsToKeep, reqsToKeep,dicDoc,dicReq):\n",
        "\n",
        "    #Cette fonction créer et retourne le corpus et les requêtes vectorisé à partir du modèle BERT ainsi que le corpus et les requete tokenisé\n",
        "\n",
        "    embedder = SentenceTransformer('bert-base-nli-mean-tokens') #BERT BASE\n",
        "\n",
        "    corpusDocTokenList = []\n",
        "    embedded_corpus = []\n",
        "    corpusReqTokenList = {}\n",
        "    corpusDicoDocName={}\n",
        "    i = 0\n",
        "    for k in docsToKeep:\n",
        "\n",
        "      corpusDocTokenList.append(text2TokenList(dicDoc[k]))\n",
        "      embedded_corpus.append(embedder.encode(dicDoc[k]))\n",
        "      corpusDicoDocName[k] = i\n",
        "      i = i + 1\n",
        "\n",
        "    #print(\"reqs...\")\n",
        "    corpusReqName=[]\n",
        "    embedded_queries={}\n",
        "    corpusDicoReqName={}\n",
        "    i = 0\n",
        "    for k in reqsToKeep:\n",
        "      corpusReqTokenList[k] = text2TokenList(dicReq[k])\n",
        "      embedded_queries[k] = embedder.encode(dicReq[k])\n",
        "      corpusReqName.append(k)\n",
        "      corpusDicoReqName[k] = i\n",
        "      i = i + 1\n",
        "    return corpusDocTokenList,corpusDicoDocName,corpusReqTokenList,corpusReqName,corpusDicoReqName,embedded_corpus,embedded_queries\n",
        "    #print(\"bm25 doc indexing...\")\n",
        "\n"
      ],
      "metadata": {
        "id": "--29Eje_Pswq"
      },
      "execution_count": null,
      "outputs": []
    },
    {
      "cell_type": "code",
      "source": [
        "def init_vb(corpusDocTokenList):\n",
        "        #initialisation des variables pour le calcul de bm25\n",
        "        nd = {}  # word -> number of documents with word\n",
        "        num_doc = 0\n",
        "        doc_len=[]\n",
        "        doc_freqs=[]\n",
        "        corpus_size=0\n",
        "        avgdl=0\n",
        "        for document in corpusDocTokenList:\n",
        "            doc_len.append(len(document))\n",
        "            num_doc += len(document)\n",
        "\n",
        "            frequencies = {}\n",
        "            for word in document:\n",
        "                if word not in frequencies:\n",
        "                    frequencies[word] = 0\n",
        "                frequencies[word] += 1\n",
        "            doc_freqs.append(frequencies)\n",
        "\n",
        "            for word, freq in frequencies.items():\n",
        "                try:\n",
        "                    nd[word]+=1\n",
        "                except KeyError:\n",
        "                    nd[word] = 1\n",
        "\n",
        "            corpus_size += 1\n",
        "\n",
        "        avgdl = num_doc / corpus_size\n",
        "        return num_doc,doc_len,doc_freqs,corpus_size,avgdl,nd\n",
        "\n",
        "def calc_idf(nd,corpus_size,epsilon=0.25):\n",
        "    \"\"\"\n",
        "    Calculates frequencies of terms in documents and in corpus.\n",
        "    This algorithm sets a floor on the idf values to eps * average_idf\n",
        "    \"\"\"\n",
        "    # collect idf sum to calculate an average idf for epsilon value\n",
        "    idf_sum = 0\n",
        "    dicidf={}\n",
        "    # collect words with negative idf to set them a special epsilon value.\n",
        "    # idf can be negative if word is contained in more than half of documents\n",
        "    negative_idfs = []\n",
        "    for word, freq in nd.items():\n",
        "        idf = math.log(corpus_size - freq + 0.5) - math.log(freq + 0.5)\n",
        "        dicidf[word] = idf\n",
        "        idf_sum += idf\n",
        "        if idf < 0:\n",
        "           negative_idfs.append(word)\n",
        "    average_idf = idf_sum / len(dicidf)\n",
        "    eps = epsilon * average_idf\n",
        "    for word in negative_idfs:\n",
        "        dicidf[word] = eps\n",
        "    return dicidf\n",
        "\n",
        "def Get_score(corpusDocTokenList,query,k1=1.5,b=0.75):\n",
        "  #Calcul de BM25\n",
        "  num_doc,doc_len,doc_freqs,corpus_size,avgdl,nd = init_vb(corpusDocTokenList)\n",
        "\n",
        "  score = np.zeros(len(corpusDocTokenList))\n",
        "  dicidf = calc_idf(nd,corpus_size)\n",
        "  doc_len = np.array(doc_len)\n",
        "\n",
        "\n",
        "  for q in query:\n",
        "      q_freq = np.array([(doc.get(q) or 0) for doc in doc_freqs])\n",
        "      score += (dicidf.get(q) or 0) * (q_freq * (k1 + 1) /(q_freq + k1 * (1 - b + b * doc_len / avgdl)))\n",
        "  return score"
      ],
      "metadata": {
        "id": "zg8JnsJnDzVN"
      },
      "execution_count": null,
      "outputs": []
    },
    {
      "cell_type": "code",
      "source": [
        "  from sklearn.metrics import ndcg_score\n",
        "\n",
        "  def Scoring(corpusDocTokenList,corpusDicoDocName,corpusReqTokenList,corpusReqName,corpusDicoReqName,embedded_corpus,embedded_queries,alpha=0.5):\n",
        "\n",
        "    #Fonction qui renvoie le ndcg avec l'association de BM25 et Bert\n",
        "\n",
        "    #bm25 = BM25Okapi(corpusDocTokenList)\n",
        "    #bm25 = Get_score(corpusDocTokenList)#,reqTokenList)\n",
        "\n",
        "    ndcgCumul=0\n",
        "    corpusReqVec={}\n",
        "    ndcgBM25Cumul=0\n",
        "    nbReq=0\n",
        "    ndcgTop=5\n",
        "\n",
        "\n",
        "    for req in corpusReqTokenList:\n",
        "\n",
        "      reqTokenList = corpusReqTokenList[req]\n",
        "      #doc_scores = bm25.get_scores(reqTokenList)\n",
        "      doc_scores = Get_score(corpusDocTokenList,reqTokenList)\n",
        "      doc_scores = (doc_scores-np.min(doc_scores))/(np.max(doc_scores)-np.min(doc_scores))\n",
        "\n",
        "      emb_query = embedded_queries[req]\n",
        "\n",
        "      bert_scores = Bert_score(embedded_corpus,emb_query)\n",
        "      trueDocs = np.zeros(len(corpusDocTokenList))\n",
        "\n",
        "      def_scores = alpha*doc_scores+(1-alpha)*bert_scores\n",
        "\n",
        "      for docId in corpusDicoDocName:\n",
        "        if req in dicReqDocToKeep:\n",
        "          if docId in dicReqDocToKeep[req]:\n",
        "            #get position docId\n",
        "            posDocId = corpusDicoDocName[docId]\n",
        "            trueDocs[posDocId] = dicReqDocToKeep[req][docId]\n",
        "            #print(\"TOKEEP=\",docId)\n",
        "            #print(trueDocs)\n",
        "      ndcgBM25Cumul = ndcgBM25Cumul + ndcg_score([trueDocs], [def_scores],k=ndcgTop)\n",
        "      nbReq = nbReq + 1\n",
        "    ndcgBM25Cumul = ndcgBM25Cumul / nbReq\n",
        "    #print(\"ndcg bm25=\",ndcgBM25Cumul)\n",
        "    return ndcgBM25Cumul\n",
        "def Scoring_W2V(corpusDocTokenList,corpusDicoDocName,corpusReqTokenList,corpusReqName,corpusDicoReqName,w2v_corpus,w2v_queries,alpha=0.5):\n",
        "\n",
        "    #Fonction qui renvoie le ndcg avec l'association de BM25 et Bert\n",
        "\n",
        "    #bm25 = BM25Okapi(corpusDocTokenList)\n",
        "    #bm25 = Get_score(corpusDocTokenList)#,reqTokenList)\n",
        "\n",
        "    ndcgCumul=0\n",
        "    corpusReqVec={}\n",
        "    ndcgBM25Cumul=0\n",
        "    nbReq=0\n",
        "    ndcgTop=5\n",
        "\n",
        "\n",
        "    for req in corpusReqTokenList:\n",
        "\n",
        "      reqTokenList = corpusReqTokenList[req]\n",
        "      #doc_scores = bm25.get_scores(reqTokenList)\n",
        "      doc_scores = Get_score(corpusDocTokenList,reqTokenList)\n",
        "      doc_scores = (doc_scores-np.min(doc_scores))/(np.max(doc_scores)-np.min(doc_scores))\n",
        "\n",
        "      emb_query = embedded_queries[req]\n",
        "\n",
        "      bert_scores = Bert_score(embedded_corpus,emb_query)\n",
        "      trueDocs = np.zeros(len(corpusDocTokenList))\n",
        "\n",
        "      def_scores = alpha*doc_scores+(1-alpha)*bert_scores\n",
        "\n",
        "      for docId in corpusDicoDocName:\n",
        "        if req in dicReqDocToKeep:\n",
        "          if docId in dicReqDocToKeep[req]:\n",
        "            #get position docId\n",
        "            posDocId = corpusDicoDocName[docId]\n",
        "            trueDocs[posDocId] = dicReqDocToKeep[req][docId]\n",
        "            #print(\"TOKEEP=\",docId)\n",
        "            #print(trueDocs)\n",
        "      ndcgBM25Cumul = ndcgBM25Cumul + ndcg_score([trueDocs], [def_scores],k=ndcgTop)\n",
        "      nbReq = nbReq + 1\n",
        "    ndcgBM25Cumul = ndcgBM25Cumul / nbReq\n",
        "    #print(\"ndcg bm25=\",ndcgBM25Cumul)\n",
        "    return ndcgBM25Cumul\n",
        "\n",
        "\n",
        "  def Scoring_OG(corpusDocTokenList,corpusDicoDocName,corpusReqTokenList,corpusReqName,corpusDicoReqName):\n",
        "\n",
        "    #Fonction qui renvoie le ndcg avec la methode BM25\n",
        "\n",
        "\n",
        "\n",
        "    #bm25 = BM25Okapi(corpusDocTokenList)\n",
        "    #bm25 = Get_score(corpusDocTokenList)#,reqTokenList)\n",
        "\n",
        "    ndcgCumul=0\n",
        "    corpusReqVec={}\n",
        "    ndcgBM25Cumul=0\n",
        "    nbReq=0\n",
        "    ndcgTop=5\n",
        "\n",
        "    #corpus_embeddings=embedder.encode(list(dicDoc.values())[0)\n",
        "\n",
        "\n",
        "    for req in corpusReqTokenList:\n",
        "\n",
        "      reqTokenList = corpusReqTokenList[req]\n",
        "      #doc_scores = bm25.get_scores(reqTokenList)\n",
        "      doc_scores = Get_score(corpusDocTokenList,reqTokenList)\n",
        "      doc_scores = (doc_scores-np.min(doc_scores))/(np.max(doc_scores)-np.min(doc_scores))\n",
        "      #bert_scores = Bert_score(embedder)\n",
        "      trueDocs = np.zeros(len(corpusDocTokenList))\n",
        "\n",
        "      for docId in corpusDicoDocName:\n",
        "        if req in dicReqDocToKeep:\n",
        "          if docId in dicReqDocToKeep[req]:\n",
        "            #get position docId\n",
        "            posDocId = corpusDicoDocName[docId]\n",
        "            trueDocs[posDocId] = dicReqDocToKeep[req][docId]\n",
        "            #print(\"TOKEEP=\",docId)\n",
        "            #print(trueDocs)\n",
        "      ndcgBM25Cumul = ndcgBM25Cumul + ndcg_score([trueDocs], [doc_scores],k=ndcgTop)\n",
        "      nbReq = nbReq + 1\n",
        "    ndcgBM25Cumul = ndcgBM25Cumul / nbReq\n",
        "    print(\"ndcg bm25=\",ndcgBM25Cumul)\n",
        "    return ndcgBM25Cumul\n",
        "\n",
        "  def Scoring_Token(corpusDocTokenList,corpusDicoDocName,corpusReqTokenList,corpusReqName,corpusDicoReqName):\n",
        "\n",
        "    #Renvoie le ndcg avec uniquement le cosine similarity sans tokenization du corpus NON UTILISE DANS LE PROJET\n",
        "\n",
        "    #bm25 = BM25Okapi(corpusDocTokenList)\n",
        "    #bm25 = Get_score(corpusDocTokenList)#,reqTokenList)\n",
        "\n",
        "      ndcgCumul=0\n",
        "      corpusReqVec={}\n",
        "      ndcgBM25Cumul=0\n",
        "      nbReq=0\n",
        "      ndcgTop=5\n",
        "      embedder = SentenceTransformer('bert-base-nli-mean-tokens') #BERT BASE\n",
        "\n",
        "      corpus_embeddings=embedder.encode(corpusDocTokenList)\n",
        "\n",
        "      for req in corpusReqTokenList:\n",
        "\n",
        "        reqTokenList = corpusReqTokenList[req]\n",
        "        #doc_scores = bm25.get_scores(reqTokenList)\n",
        "        #doc_scores = Get_score(corpusDocTokenList,reqTokenList)\n",
        "        doc_scores = Bert_score(corpus_embeddings,reqTokenList,embedder)\n",
        "        trueDocs = np.zeros(len(corpusDocTokenList))\n",
        "\n",
        "        #def_scores = alpha*doc_scores+(1-alpha)*Bert_scores\n",
        "\n",
        "        for docId in corpusDicoDocName:\n",
        "          if req in dicReqDocToKeep:\n",
        "            if docId in dicReqDocToKeep[req]:\n",
        "              #get position docId\n",
        "              posDocId = corpusDicoDocName[docId]\n",
        "              trueDocs[posDocId] = dicReqDocToKeep[req][docId]\n",
        "              #print(\"TOKEEP=\",docId)\n",
        "              #print(trueDocs)\n",
        "        ndcgBM25Cumul = ndcgBM25Cumul + ndcg_score([trueDocs], [doc_scores],k=ndcgTop)\n",
        "        nbReq = nbReq + 1\n",
        "      ndcgBM25Cumul = ndcgBM25Cumul / nbReq\n",
        "      #print(\"ndcg bm25=\",ndcgBM25Cumul)\n",
        "      return ndcgBM25Cumul"
      ],
      "metadata": {
        "id": "nINJkYvUPtdi"
      },
      "execution_count": null,
      "outputs": []
    },
    {
      "cell_type": "code",
      "source": [
        "import scipy\n",
        "def Bert_score(embedded_corpus,embedded_query):\n",
        "#Cosine similarity pour le corpus pour une requête donnée\n",
        "  for query, embedded_query in zip(queries, embedded_corpus):\n",
        "      distances = scipy.spatial.distance.cdist([embedded_query], embedded_corpus, \"cosine\")[0]\n",
        "  return distances"
      ],
      "metadata": {
        "id": "mXMr8D1MHvXx"
      },
      "execution_count": null,
      "outputs": []
    },
    {
      "cell_type": "code",
      "source": [
        "from sklearn.metrics.pairwise import cosine_similarity\n",
        "from tqdm import tnrange\n",
        "from sklearn.metrics import jaccard_score\n"
      ],
      "metadata": {
        "id": "gW2PMOyrS-h7"
      },
      "execution_count": null,
      "outputs": []
    },
    {
      "cell_type": "code",
      "source": [
        "\tdicDoc, dicReq, dicReqDoc = loadNFCorpus()"
      ],
      "metadata": {
        "id": "lq-R_gYKGK8g"
      },
      "execution_count": null,
      "outputs": []
    },
    {
      "cell_type": "code",
      "source": [
        "docsToKeep, reqsToKeep, dicReqDocToKeep = docsandreqsToKeep(0,3192)"
      ],
      "metadata": {
        "id": "-ZEVv2XlRn1N"
      },
      "execution_count": null,
      "outputs": []
    },
    {
      "cell_type": "code",
      "source": [
        "#16 min to run\n",
        "corpusDocTokenList,corpusDicoDocName,corpusReqTokenList,corpusReqName,corpusDicoReqName,embedded_corpus,embedded_queries = Tokenize_Embedding(docsToKeep, reqsToKeep,dicDoc,dicReq)"
      ],
      "metadata": {
        "id": "w36myNBlcxUC"
      },
      "execution_count": null,
      "outputs": []
    },
    {
      "cell_type": "code",
      "source": [
        "  num_doc,doc_len,doc_freqs,corpus_size,avgdl,nd = init_vb(corpusDocTokenList)\n"
      ],
      "metadata": {
        "id": "9kbt0Dt7ZJBm"
      },
      "execution_count": null,
      "outputs": []
    },
    {
      "cell_type": "code",
      "source": [
        "embedder = SentenceTransformer('bert-base-nli-mean-tokens') #BERT BASE\n",
        "\n",
        "corpus_embeddings=embedder.encode(corpusDocTokenList)"
      ],
      "metadata": {
        "id": "wfWRkfkn44AJ"
      },
      "execution_count": null,
      "outputs": []
    },
    {
      "cell_type": "code",
      "source": [
        "for alpha in np.arange(0,1.1,0.1):\n",
        "  print(alpha,\" : \",Scoring(corpusDocTokenList,corpusDicoDocName,corpusReqTokenList,corpusReqName,corpusDicoReqName,embedded_corpus,embedded_queries,alpha=alpha))"
      ],
      "metadata": {
        "colab": {
          "base_uri": "https://localhost:8080/"
        },
        "id": "zAqNdafX48KD",
        "outputId": "fb5e16f3-ef47-487b-e698-f8fa212a0a41"
      },
      "execution_count": null,
      "outputs": [
        {
          "output_type": "stream",
          "name": "stdout",
          "text": [
            "0.0  :  0.06343897690810077\n",
            "0.1  :  0.13421821485929858\n",
            "0.2  :  0.3890307390962273\n",
            "0.30000000000000004  :  0.590889080963979\n",
            "0.4  :  0.664633595403491\n",
            "0.5  :  0.7263833644199857\n",
            "0.6000000000000001  :  0.7412787079926726\n",
            "0.7000000000000001  :  0.7412787079926726\n",
            "0.8  :  0.7693781928713586\n",
            "0.9  :  0.7703071473920065\n",
            "1.0  :  0.7693781928713586\n"
          ]
        }
      ]
    },
    {
      "cell_type": "markdown",
      "source": [
        "On obtient un meilleur ndcg en alliant BM25 et un le modèle BERT de word embedding que BM25 uniquement avec un paramètre alpha = 0.9"
      ],
      "metadata": {
        "id": "CNQ4nwb7X2Sp"
      }
    },
    {
      "cell_type": "code",
      "source": [
        "#10 min to run\n",
        "for alpha in np.arange(0,1.1,0.1):\n",
        "  print(alpha,\" : \",Scoring(corpusDocTokenList,corpusDicoDocName,corpusReqTokenList,corpusReqName,corpusDicoReqName,embedded_corpus,embedded_queries,alpha=alpha))"
      ],
      "metadata": {
        "colab": {
          "base_uri": "https://localhost:8080/"
        },
        "id": "cz2wGr7qDEJn",
        "outputId": "6f5ef0b5-84c3-4082-ea68-7e2940af2317"
      },
      "execution_count": null,
      "outputs": [
        {
          "output_type": "stream",
          "name": "stdout",
          "text": [
            "0.0  :  0.016212689040386235\n",
            "0.1  :  0.03045990397502507\n",
            "0.2  :  0.11387492098040874\n",
            "0.30000000000000004  :  0.3253371636548213\n",
            "0.4  :  0.43507010743285196\n",
            "0.5  :  0.4620996719991059\n",
            "0.6000000000000001  :  0.4648192964710422\n",
            "0.7000000000000001  :  0.4621611865422238\n",
            "0.8  :  0.46875863592510264\n",
            "0.9  :  0.47044939560977583\n",
            "1.0  :  0.46335714418774215\n"
          ]
        }
      ]
    },
    {
      "cell_type": "code",
      "source": [
        "bert_res = [0.016212689040386235,0.03045990397502507,0.11387492098040874,0.3253371636548213,0.43507010743285196,0.4620996719991059,0.4648192964710422,0.4621611865422238,0.46875863592510264,0.47044939560977583,0.46335714418774215]"
      ],
      "metadata": {
        "id": "1D-GRoPeQAwp"
      },
      "execution_count": null,
      "outputs": []
    },
    {
      "cell_type": "code",
      "source": [
        "import matplotlib.pyplot as plt\n",
        "alpha = np.arange(0,1.1,0.1)\n",
        "plt.plot(alpha,bert_res)\n",
        "plt.xlabel('Alpha')\n",
        "plt.ylabel('ndcg')\n",
        "plt.title('Influence of alpha parameter on ndcg')\n",
        "plt.show()"
      ],
      "metadata": {
        "colab": {
          "base_uri": "https://localhost:8080/",
          "height": 472
        },
        "id": "J9yytO-NP5Wd",
        "outputId": "7e60a1d8-8d4b-49e4-ec5c-c8a2bec8a8db"
      },
      "execution_count": null,
      "outputs": [
        {
          "output_type": "display_data",
          "data": {
            "text/plain": [
              "<Figure size 640x480 with 1 Axes>"
            ],
            "image/png": "[encoded data removed]"
          },
          "metadata": {}
        }
      ]
    },
    {
      "cell_type": "code",
      "source": [
        "Scoring(corpusDocTokenList,corpusDicoDocName,corpusReqTokenList,corpusReqName,corpusDicoReqName)"
      ],
      "metadata": {
        "colab": {
          "base_uri": "https://localhost:8080/"
        },
        "id": "kUzXBkmpfWt6",
        "outputId": "606cda54-7f2c-4a78-c43f-05047cf665f5"
      },
      "execution_count": null,
      "outputs": [
        {
          "output_type": "stream",
          "name": "stdout",
          "text": [
            "ndcg bm25= 0.7411284941319424\n"
          ]
        },
        {
          "output_type": "execute_result",
          "data": {
            "text/plain": [
              "0.7411284941319424"
            ]
          },
          "metadata": {},
          "execution_count": 159
        }
      ]
    },
    {
      "cell_type": "code",
      "source": [
        "Scoring_OG(corpusDocTokenList,corpusDicoDocName,corpusReqTokenList,corpusReqName,corpusDicoReqName)"
      ],
      "metadata": {
        "colab": {
          "base_uri": "https://localhost:8080/"
        },
        "id": "SfHCPDSsDGxc",
        "outputId": "cf053f36-41f3-4f2c-ffe8-4727f2908459"
      },
      "execution_count": null,
      "outputs": [
        {
          "output_type": "stream",
          "name": "stdout",
          "text": [
            "ndcg bm25= 0.46335714418774215\n"
          ]
        },
        {
          "output_type": "execute_result",
          "data": {
            "text/plain": [
              "0.46335714418774215"
            ]
          },
          "metadata": {},
          "execution_count": 192
        }
      ]
    },
    {
      "cell_type": "code",
      "source": [
        "Scoring_Token(corpusDocTokenList,corpusDicoDocName,corpusReqTokenList,corpusReqName,corpusDicoReqName)"
      ],
      "metadata": {
        "colab": {
          "base_uri": "https://localhost:8080/"
        },
        "id": "x0Cmo29njCKx",
        "outputId": "b38224aa-dc26-4d80-9fa9-d9ed565791f1"
      },
      "execution_count": null,
      "outputs": [
        {
          "output_type": "stream",
          "name": "stdout",
          "text": [
            "ndcg bm25= 0.2729997913956099\n"
          ]
        },
        {
          "output_type": "execute_result",
          "data": {
            "text/plain": [
              "0.2729997913956099"
            ]
          },
          "metadata": {},
          "execution_count": 153
        }
      ]
    }
  ]
}